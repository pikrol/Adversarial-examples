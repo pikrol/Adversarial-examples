{
  "nbformat": 4,
  "nbformat_minor": 0,
  "metadata": {
    "colab": {
      "name": "Adversarial examples.ipynb",
      "provenance": [],
      "collapsed_sections": []
    },
    "kernelspec": {
      "name": "python3",
      "display_name": "Python 3"
    },
    "language_info": {
      "name": "python"
    },
    "accelerator": "GPU",
    "widgets": {
      "application/vnd.jupyter.widget-state+json": {
        "6ec766ca43fb4c5abb8296144f9a2bbf": {
          "model_module": "@jupyter-widgets/controls",
          "model_name": "HBoxModel",
          "state": {
            "_view_name": "HBoxView",
            "_dom_classes": [],
            "_model_name": "HBoxModel",
            "_view_module": "@jupyter-widgets/controls",
            "_model_module_version": "1.5.0",
            "_view_count": null,
            "_view_module_version": "1.5.0",
            "box_style": "",
            "layout": "IPY_MODEL_f8b72a02ca4b465aa0a6df8ec6531680",
            "_model_module": "@jupyter-widgets/controls",
            "children": [
              "IPY_MODEL_2553da0524664d21b025fce5bf5424e5",
              "IPY_MODEL_142c48495e5846c9b67645cc22286102"
            ]
          }
        },
        "f8b72a02ca4b465aa0a6df8ec6531680": {
          "model_module": "@jupyter-widgets/base",
          "model_name": "LayoutModel",
          "state": {
            "_view_name": "LayoutView",
            "grid_template_rows": null,
            "right": null,
            "justify_content": null,
            "_view_module": "@jupyter-widgets/base",
            "overflow": null,
            "_model_module_version": "1.2.0",
            "_view_count": null,
            "flex_flow": null,
            "width": null,
            "min_width": null,
            "border": null,
            "align_items": null,
            "bottom": null,
            "_model_module": "@jupyter-widgets/base",
            "top": null,
            "grid_column": null,
            "overflow_y": null,
            "overflow_x": null,
            "grid_auto_flow": null,
            "grid_area": null,
            "grid_template_columns": null,
            "flex": null,
            "_model_name": "LayoutModel",
            "justify_items": null,
            "grid_row": null,
            "max_height": null,
            "align_content": null,
            "visibility": null,
            "align_self": null,
            "height": null,
            "min_height": null,
            "padding": null,
            "grid_auto_rows": null,
            "grid_gap": null,
            "max_width": null,
            "order": null,
            "_view_module_version": "1.2.0",
            "grid_template_areas": null,
            "object_position": null,
            "object_fit": null,
            "grid_auto_columns": null,
            "margin": null,
            "display": null,
            "left": null
          }
        },
        "2553da0524664d21b025fce5bf5424e5": {
          "model_module": "@jupyter-widgets/controls",
          "model_name": "FloatProgressModel",
          "state": {
            "_view_name": "ProgressView",
            "style": "IPY_MODEL_a307d0a1cc464130afa8b2208c2746d4",
            "_dom_classes": [],
            "description": "",
            "_model_name": "FloatProgressModel",
            "bar_style": "success",
            "max": 26421880,
            "_view_module": "@jupyter-widgets/controls",
            "_model_module_version": "1.5.0",
            "value": 26421880,
            "_view_count": null,
            "_view_module_version": "1.5.0",
            "orientation": "horizontal",
            "min": 0,
            "description_tooltip": null,
            "_model_module": "@jupyter-widgets/controls",
            "layout": "IPY_MODEL_9599929d7002423a9f72c75b5eab50ce"
          }
        },
        "142c48495e5846c9b67645cc22286102": {
          "model_module": "@jupyter-widgets/controls",
          "model_name": "HTMLModel",
          "state": {
            "_view_name": "HTMLView",
            "style": "IPY_MODEL_2a42a8a9ce7a40f3b47d699466820ad7",
            "_dom_classes": [],
            "description": "",
            "_model_name": "HTMLModel",
            "placeholder": "​",
            "_view_module": "@jupyter-widgets/controls",
            "_model_module_version": "1.5.0",
            "value": " 26422272/? [00:06&lt;00:00, 3941736.50it/s]",
            "_view_count": null,
            "_view_module_version": "1.5.0",
            "description_tooltip": null,
            "_model_module": "@jupyter-widgets/controls",
            "layout": "IPY_MODEL_41178ac19c6748e38de6a1cdf9967ca0"
          }
        },
        "a307d0a1cc464130afa8b2208c2746d4": {
          "model_module": "@jupyter-widgets/controls",
          "model_name": "ProgressStyleModel",
          "state": {
            "_view_name": "StyleView",
            "_model_name": "ProgressStyleModel",
            "description_width": "initial",
            "_view_module": "@jupyter-widgets/base",
            "_model_module_version": "1.5.0",
            "_view_count": null,
            "_view_module_version": "1.2.0",
            "bar_color": null,
            "_model_module": "@jupyter-widgets/controls"
          }
        },
        "9599929d7002423a9f72c75b5eab50ce": {
          "model_module": "@jupyter-widgets/base",
          "model_name": "LayoutModel",
          "state": {
            "_view_name": "LayoutView",
            "grid_template_rows": null,
            "right": null,
            "justify_content": null,
            "_view_module": "@jupyter-widgets/base",
            "overflow": null,
            "_model_module_version": "1.2.0",
            "_view_count": null,
            "flex_flow": null,
            "width": null,
            "min_width": null,
            "border": null,
            "align_items": null,
            "bottom": null,
            "_model_module": "@jupyter-widgets/base",
            "top": null,
            "grid_column": null,
            "overflow_y": null,
            "overflow_x": null,
            "grid_auto_flow": null,
            "grid_area": null,
            "grid_template_columns": null,
            "flex": null,
            "_model_name": "LayoutModel",
            "justify_items": null,
            "grid_row": null,
            "max_height": null,
            "align_content": null,
            "visibility": null,
            "align_self": null,
            "height": null,
            "min_height": null,
            "padding": null,
            "grid_auto_rows": null,
            "grid_gap": null,
            "max_width": null,
            "order": null,
            "_view_module_version": "1.2.0",
            "grid_template_areas": null,
            "object_position": null,
            "object_fit": null,
            "grid_auto_columns": null,
            "margin": null,
            "display": null,
            "left": null
          }
        },
        "2a42a8a9ce7a40f3b47d699466820ad7": {
          "model_module": "@jupyter-widgets/controls",
          "model_name": "DescriptionStyleModel",
          "state": {
            "_view_name": "StyleView",
            "_model_name": "DescriptionStyleModel",
            "description_width": "",
            "_view_module": "@jupyter-widgets/base",
            "_model_module_version": "1.5.0",
            "_view_count": null,
            "_view_module_version": "1.2.0",
            "_model_module": "@jupyter-widgets/controls"
          }
        },
        "41178ac19c6748e38de6a1cdf9967ca0": {
          "model_module": "@jupyter-widgets/base",
          "model_name": "LayoutModel",
          "state": {
            "_view_name": "LayoutView",
            "grid_template_rows": null,
            "right": null,
            "justify_content": null,
            "_view_module": "@jupyter-widgets/base",
            "overflow": null,
            "_model_module_version": "1.2.0",
            "_view_count": null,
            "flex_flow": null,
            "width": null,
            "min_width": null,
            "border": null,
            "align_items": null,
            "bottom": null,
            "_model_module": "@jupyter-widgets/base",
            "top": null,
            "grid_column": null,
            "overflow_y": null,
            "overflow_x": null,
            "grid_auto_flow": null,
            "grid_area": null,
            "grid_template_columns": null,
            "flex": null,
            "_model_name": "LayoutModel",
            "justify_items": null,
            "grid_row": null,
            "max_height": null,
            "align_content": null,
            "visibility": null,
            "align_self": null,
            "height": null,
            "min_height": null,
            "padding": null,
            "grid_auto_rows": null,
            "grid_gap": null,
            "max_width": null,
            "order": null,
            "_view_module_version": "1.2.0",
            "grid_template_areas": null,
            "object_position": null,
            "object_fit": null,
            "grid_auto_columns": null,
            "margin": null,
            "display": null,
            "left": null
          }
        },
        "430fc9dcd6d349d896eb778949758da5": {
          "model_module": "@jupyter-widgets/controls",
          "model_name": "HBoxModel",
          "state": {
            "_view_name": "HBoxView",
            "_dom_classes": [],
            "_model_name": "HBoxModel",
            "_view_module": "@jupyter-widgets/controls",
            "_model_module_version": "1.5.0",
            "_view_count": null,
            "_view_module_version": "1.5.0",
            "box_style": "",
            "layout": "IPY_MODEL_388a79da496f4723b5ba04cc7970b215",
            "_model_module": "@jupyter-widgets/controls",
            "children": [
              "IPY_MODEL_5808077557794afaa121c668db12e499",
              "IPY_MODEL_93033a5ab99d4a189891cb266f176e5a"
            ]
          }
        },
        "388a79da496f4723b5ba04cc7970b215": {
          "model_module": "@jupyter-widgets/base",
          "model_name": "LayoutModel",
          "state": {
            "_view_name": "LayoutView",
            "grid_template_rows": null,
            "right": null,
            "justify_content": null,
            "_view_module": "@jupyter-widgets/base",
            "overflow": null,
            "_model_module_version": "1.2.0",
            "_view_count": null,
            "flex_flow": null,
            "width": null,
            "min_width": null,
            "border": null,
            "align_items": null,
            "bottom": null,
            "_model_module": "@jupyter-widgets/base",
            "top": null,
            "grid_column": null,
            "overflow_y": null,
            "overflow_x": null,
            "grid_auto_flow": null,
            "grid_area": null,
            "grid_template_columns": null,
            "flex": null,
            "_model_name": "LayoutModel",
            "justify_items": null,
            "grid_row": null,
            "max_height": null,
            "align_content": null,
            "visibility": null,
            "align_self": null,
            "height": null,
            "min_height": null,
            "padding": null,
            "grid_auto_rows": null,
            "grid_gap": null,
            "max_width": null,
            "order": null,
            "_view_module_version": "1.2.0",
            "grid_template_areas": null,
            "object_position": null,
            "object_fit": null,
            "grid_auto_columns": null,
            "margin": null,
            "display": null,
            "left": null
          }
        },
        "5808077557794afaa121c668db12e499": {
          "model_module": "@jupyter-widgets/controls",
          "model_name": "FloatProgressModel",
          "state": {
            "_view_name": "ProgressView",
            "style": "IPY_MODEL_cc52069a282045de8a9c34deae1bffb4",
            "_dom_classes": [],
            "description": "",
            "_model_name": "FloatProgressModel",
            "bar_style": "success",
            "max": 29515,
            "_view_module": "@jupyter-widgets/controls",
            "_model_module_version": "1.5.0",
            "value": 29515,
            "_view_count": null,
            "_view_module_version": "1.5.0",
            "orientation": "horizontal",
            "min": 0,
            "description_tooltip": null,
            "_model_module": "@jupyter-widgets/controls",
            "layout": "IPY_MODEL_bc712d3020974bf4ba5ab1e25039ec15"
          }
        },
        "93033a5ab99d4a189891cb266f176e5a": {
          "model_module": "@jupyter-widgets/controls",
          "model_name": "HTMLModel",
          "state": {
            "_view_name": "HTMLView",
            "style": "IPY_MODEL_141226f98a714b8abb1db682e2997d32",
            "_dom_classes": [],
            "description": "",
            "_model_name": "HTMLModel",
            "placeholder": "​",
            "_view_module": "@jupyter-widgets/controls",
            "_model_module_version": "1.5.0",
            "value": " 29696/? [00:03&lt;00:00, 9543.17it/s]",
            "_view_count": null,
            "_view_module_version": "1.5.0",
            "description_tooltip": null,
            "_model_module": "@jupyter-widgets/controls",
            "layout": "IPY_MODEL_1abdf5e9107f4fc68c18764fd3f789bf"
          }
        },
        "cc52069a282045de8a9c34deae1bffb4": {
          "model_module": "@jupyter-widgets/controls",
          "model_name": "ProgressStyleModel",
          "state": {
            "_view_name": "StyleView",
            "_model_name": "ProgressStyleModel",
            "description_width": "initial",
            "_view_module": "@jupyter-widgets/base",
            "_model_module_version": "1.5.0",
            "_view_count": null,
            "_view_module_version": "1.2.0",
            "bar_color": null,
            "_model_module": "@jupyter-widgets/controls"
          }
        },
        "bc712d3020974bf4ba5ab1e25039ec15": {
          "model_module": "@jupyter-widgets/base",
          "model_name": "LayoutModel",
          "state": {
            "_view_name": "LayoutView",
            "grid_template_rows": null,
            "right": null,
            "justify_content": null,
            "_view_module": "@jupyter-widgets/base",
            "overflow": null,
            "_model_module_version": "1.2.0",
            "_view_count": null,
            "flex_flow": null,
            "width": null,
            "min_width": null,
            "border": null,
            "align_items": null,
            "bottom": null,
            "_model_module": "@jupyter-widgets/base",
            "top": null,
            "grid_column": null,
            "overflow_y": null,
            "overflow_x": null,
            "grid_auto_flow": null,
            "grid_area": null,
            "grid_template_columns": null,
            "flex": null,
            "_model_name": "LayoutModel",
            "justify_items": null,
            "grid_row": null,
            "max_height": null,
            "align_content": null,
            "visibility": null,
            "align_self": null,
            "height": null,
            "min_height": null,
            "padding": null,
            "grid_auto_rows": null,
            "grid_gap": null,
            "max_width": null,
            "order": null,
            "_view_module_version": "1.2.0",
            "grid_template_areas": null,
            "object_position": null,
            "object_fit": null,
            "grid_auto_columns": null,
            "margin": null,
            "display": null,
            "left": null
          }
        },
        "141226f98a714b8abb1db682e2997d32": {
          "model_module": "@jupyter-widgets/controls",
          "model_name": "DescriptionStyleModel",
          "state": {
            "_view_name": "StyleView",
            "_model_name": "DescriptionStyleModel",
            "description_width": "",
            "_view_module": "@jupyter-widgets/base",
            "_model_module_version": "1.5.0",
            "_view_count": null,
            "_view_module_version": "1.2.0",
            "_model_module": "@jupyter-widgets/controls"
          }
        },
        "1abdf5e9107f4fc68c18764fd3f789bf": {
          "model_module": "@jupyter-widgets/base",
          "model_name": "LayoutModel",
          "state": {
            "_view_name": "LayoutView",
            "grid_template_rows": null,
            "right": null,
            "justify_content": null,
            "_view_module": "@jupyter-widgets/base",
            "overflow": null,
            "_model_module_version": "1.2.0",
            "_view_count": null,
            "flex_flow": null,
            "width": null,
            "min_width": null,
            "border": null,
            "align_items": null,
            "bottom": null,
            "_model_module": "@jupyter-widgets/base",
            "top": null,
            "grid_column": null,
            "overflow_y": null,
            "overflow_x": null,
            "grid_auto_flow": null,
            "grid_area": null,
            "grid_template_columns": null,
            "flex": null,
            "_model_name": "LayoutModel",
            "justify_items": null,
            "grid_row": null,
            "max_height": null,
            "align_content": null,
            "visibility": null,
            "align_self": null,
            "height": null,
            "min_height": null,
            "padding": null,
            "grid_auto_rows": null,
            "grid_gap": null,
            "max_width": null,
            "order": null,
            "_view_module_version": "1.2.0",
            "grid_template_areas": null,
            "object_position": null,
            "object_fit": null,
            "grid_auto_columns": null,
            "margin": null,
            "display": null,
            "left": null
          }
        },
        "1a42f3ab25e54002b350060f1e4a5863": {
          "model_module": "@jupyter-widgets/controls",
          "model_name": "HBoxModel",
          "state": {
            "_view_name": "HBoxView",
            "_dom_classes": [],
            "_model_name": "HBoxModel",
            "_view_module": "@jupyter-widgets/controls",
            "_model_module_version": "1.5.0",
            "_view_count": null,
            "_view_module_version": "1.5.0",
            "box_style": "",
            "layout": "IPY_MODEL_8899fb5366884fe5af62cce1346d4441",
            "_model_module": "@jupyter-widgets/controls",
            "children": [
              "IPY_MODEL_b86a7ac0717845c6bfafdeb944823623",
              "IPY_MODEL_46c9329737144e63b4fd2e7e36d69858"
            ]
          }
        },
        "8899fb5366884fe5af62cce1346d4441": {
          "model_module": "@jupyter-widgets/base",
          "model_name": "LayoutModel",
          "state": {
            "_view_name": "LayoutView",
            "grid_template_rows": null,
            "right": null,
            "justify_content": null,
            "_view_module": "@jupyter-widgets/base",
            "overflow": null,
            "_model_module_version": "1.2.0",
            "_view_count": null,
            "flex_flow": null,
            "width": null,
            "min_width": null,
            "border": null,
            "align_items": null,
            "bottom": null,
            "_model_module": "@jupyter-widgets/base",
            "top": null,
            "grid_column": null,
            "overflow_y": null,
            "overflow_x": null,
            "grid_auto_flow": null,
            "grid_area": null,
            "grid_template_columns": null,
            "flex": null,
            "_model_name": "LayoutModel",
            "justify_items": null,
            "grid_row": null,
            "max_height": null,
            "align_content": null,
            "visibility": null,
            "align_self": null,
            "height": null,
            "min_height": null,
            "padding": null,
            "grid_auto_rows": null,
            "grid_gap": null,
            "max_width": null,
            "order": null,
            "_view_module_version": "1.2.0",
            "grid_template_areas": null,
            "object_position": null,
            "object_fit": null,
            "grid_auto_columns": null,
            "margin": null,
            "display": null,
            "left": null
          }
        },
        "b86a7ac0717845c6bfafdeb944823623": {
          "model_module": "@jupyter-widgets/controls",
          "model_name": "FloatProgressModel",
          "state": {
            "_view_name": "ProgressView",
            "style": "IPY_MODEL_a55c06be494e45db80277dc7c45dfeba",
            "_dom_classes": [],
            "description": "",
            "_model_name": "FloatProgressModel",
            "bar_style": "success",
            "max": 4422102,
            "_view_module": "@jupyter-widgets/controls",
            "_model_module_version": "1.5.0",
            "value": 4422102,
            "_view_count": null,
            "_view_module_version": "1.5.0",
            "orientation": "horizontal",
            "min": 0,
            "description_tooltip": null,
            "_model_module": "@jupyter-widgets/controls",
            "layout": "IPY_MODEL_52001a22b544406e903c69d39ef752a3"
          }
        },
        "46c9329737144e63b4fd2e7e36d69858": {
          "model_module": "@jupyter-widgets/controls",
          "model_name": "HTMLModel",
          "state": {
            "_view_name": "HTMLView",
            "style": "IPY_MODEL_d1e53843e97842e4bb955cd144266680",
            "_dom_classes": [],
            "description": "",
            "_model_name": "HTMLModel",
            "placeholder": "​",
            "_view_module": "@jupyter-widgets/controls",
            "_model_module_version": "1.5.0",
            "value": " 4422656/? [00:02&lt;00:00, 2086373.53it/s]",
            "_view_count": null,
            "_view_module_version": "1.5.0",
            "description_tooltip": null,
            "_model_module": "@jupyter-widgets/controls",
            "layout": "IPY_MODEL_26b9180e103147d0a191507e28cfae48"
          }
        },
        "a55c06be494e45db80277dc7c45dfeba": {
          "model_module": "@jupyter-widgets/controls",
          "model_name": "ProgressStyleModel",
          "state": {
            "_view_name": "StyleView",
            "_model_name": "ProgressStyleModel",
            "description_width": "initial",
            "_view_module": "@jupyter-widgets/base",
            "_model_module_version": "1.5.0",
            "_view_count": null,
            "_view_module_version": "1.2.0",
            "bar_color": null,
            "_model_module": "@jupyter-widgets/controls"
          }
        },
        "52001a22b544406e903c69d39ef752a3": {
          "model_module": "@jupyter-widgets/base",
          "model_name": "LayoutModel",
          "state": {
            "_view_name": "LayoutView",
            "grid_template_rows": null,
            "right": null,
            "justify_content": null,
            "_view_module": "@jupyter-widgets/base",
            "overflow": null,
            "_model_module_version": "1.2.0",
            "_view_count": null,
            "flex_flow": null,
            "width": null,
            "min_width": null,
            "border": null,
            "align_items": null,
            "bottom": null,
            "_model_module": "@jupyter-widgets/base",
            "top": null,
            "grid_column": null,
            "overflow_y": null,
            "overflow_x": null,
            "grid_auto_flow": null,
            "grid_area": null,
            "grid_template_columns": null,
            "flex": null,
            "_model_name": "LayoutModel",
            "justify_items": null,
            "grid_row": null,
            "max_height": null,
            "align_content": null,
            "visibility": null,
            "align_self": null,
            "height": null,
            "min_height": null,
            "padding": null,
            "grid_auto_rows": null,
            "grid_gap": null,
            "max_width": null,
            "order": null,
            "_view_module_version": "1.2.0",
            "grid_template_areas": null,
            "object_position": null,
            "object_fit": null,
            "grid_auto_columns": null,
            "margin": null,
            "display": null,
            "left": null
          }
        },
        "d1e53843e97842e4bb955cd144266680": {
          "model_module": "@jupyter-widgets/controls",
          "model_name": "DescriptionStyleModel",
          "state": {
            "_view_name": "StyleView",
            "_model_name": "DescriptionStyleModel",
            "description_width": "",
            "_view_module": "@jupyter-widgets/base",
            "_model_module_version": "1.5.0",
            "_view_count": null,
            "_view_module_version": "1.2.0",
            "_model_module": "@jupyter-widgets/controls"
          }
        },
        "26b9180e103147d0a191507e28cfae48": {
          "model_module": "@jupyter-widgets/base",
          "model_name": "LayoutModel",
          "state": {
            "_view_name": "LayoutView",
            "grid_template_rows": null,
            "right": null,
            "justify_content": null,
            "_view_module": "@jupyter-widgets/base",
            "overflow": null,
            "_model_module_version": "1.2.0",
            "_view_count": null,
            "flex_flow": null,
            "width": null,
            "min_width": null,
            "border": null,
            "align_items": null,
            "bottom": null,
            "_model_module": "@jupyter-widgets/base",
            "top": null,
            "grid_column": null,
            "overflow_y": null,
            "overflow_x": null,
            "grid_auto_flow": null,
            "grid_area": null,
            "grid_template_columns": null,
            "flex": null,
            "_model_name": "LayoutModel",
            "justify_items": null,
            "grid_row": null,
            "max_height": null,
            "align_content": null,
            "visibility": null,
            "align_self": null,
            "height": null,
            "min_height": null,
            "padding": null,
            "grid_auto_rows": null,
            "grid_gap": null,
            "max_width": null,
            "order": null,
            "_view_module_version": "1.2.0",
            "grid_template_areas": null,
            "object_position": null,
            "object_fit": null,
            "grid_auto_columns": null,
            "margin": null,
            "display": null,
            "left": null
          }
        },
        "966dab103a1540cb8b4826c76ace0699": {
          "model_module": "@jupyter-widgets/controls",
          "model_name": "HBoxModel",
          "state": {
            "_view_name": "HBoxView",
            "_dom_classes": [],
            "_model_name": "HBoxModel",
            "_view_module": "@jupyter-widgets/controls",
            "_model_module_version": "1.5.0",
            "_view_count": null,
            "_view_module_version": "1.5.0",
            "box_style": "",
            "layout": "IPY_MODEL_cc80c7f8a0b44c43a6db3d8ff8f486c7",
            "_model_module": "@jupyter-widgets/controls",
            "children": [
              "IPY_MODEL_1d2927f4fe3f42c1aa99e4bb303882fe",
              "IPY_MODEL_64b0d3872dc5465ea23d4f539efdf917"
            ]
          }
        },
        "cc80c7f8a0b44c43a6db3d8ff8f486c7": {
          "model_module": "@jupyter-widgets/base",
          "model_name": "LayoutModel",
          "state": {
            "_view_name": "LayoutView",
            "grid_template_rows": null,
            "right": null,
            "justify_content": null,
            "_view_module": "@jupyter-widgets/base",
            "overflow": null,
            "_model_module_version": "1.2.0",
            "_view_count": null,
            "flex_flow": null,
            "width": null,
            "min_width": null,
            "border": null,
            "align_items": null,
            "bottom": null,
            "_model_module": "@jupyter-widgets/base",
            "top": null,
            "grid_column": null,
            "overflow_y": null,
            "overflow_x": null,
            "grid_auto_flow": null,
            "grid_area": null,
            "grid_template_columns": null,
            "flex": null,
            "_model_name": "LayoutModel",
            "justify_items": null,
            "grid_row": null,
            "max_height": null,
            "align_content": null,
            "visibility": null,
            "align_self": null,
            "height": null,
            "min_height": null,
            "padding": null,
            "grid_auto_rows": null,
            "grid_gap": null,
            "max_width": null,
            "order": null,
            "_view_module_version": "1.2.0",
            "grid_template_areas": null,
            "object_position": null,
            "object_fit": null,
            "grid_auto_columns": null,
            "margin": null,
            "display": null,
            "left": null
          }
        },
        "1d2927f4fe3f42c1aa99e4bb303882fe": {
          "model_module": "@jupyter-widgets/controls",
          "model_name": "FloatProgressModel",
          "state": {
            "_view_name": "ProgressView",
            "style": "IPY_MODEL_cf0131b1f37f4db38ac6c1150222894d",
            "_dom_classes": [],
            "description": "",
            "_model_name": "FloatProgressModel",
            "bar_style": "success",
            "max": 5148,
            "_view_module": "@jupyter-widgets/controls",
            "_model_module_version": "1.5.0",
            "value": 5148,
            "_view_count": null,
            "_view_module_version": "1.5.0",
            "orientation": "horizontal",
            "min": 0,
            "description_tooltip": null,
            "_model_module": "@jupyter-widgets/controls",
            "layout": "IPY_MODEL_719c0afd581d4745a9702cbadce9f43d"
          }
        },
        "64b0d3872dc5465ea23d4f539efdf917": {
          "model_module": "@jupyter-widgets/controls",
          "model_name": "HTMLModel",
          "state": {
            "_view_name": "HTMLView",
            "style": "IPY_MODEL_af84c9a3458d4bc6a03e31b2ff562679",
            "_dom_classes": [],
            "description": "",
            "_model_name": "HTMLModel",
            "placeholder": "​",
            "_view_module": "@jupyter-widgets/controls",
            "_model_module_version": "1.5.0",
            "value": " 6144/? [00:00&lt;00:00, 34574.93it/s]",
            "_view_count": null,
            "_view_module_version": "1.5.0",
            "description_tooltip": null,
            "_model_module": "@jupyter-widgets/controls",
            "layout": "IPY_MODEL_76205374804c4f5ca5965a759a601b7f"
          }
        },
        "cf0131b1f37f4db38ac6c1150222894d": {
          "model_module": "@jupyter-widgets/controls",
          "model_name": "ProgressStyleModel",
          "state": {
            "_view_name": "StyleView",
            "_model_name": "ProgressStyleModel",
            "description_width": "initial",
            "_view_module": "@jupyter-widgets/base",
            "_model_module_version": "1.5.0",
            "_view_count": null,
            "_view_module_version": "1.2.0",
            "bar_color": null,
            "_model_module": "@jupyter-widgets/controls"
          }
        },
        "719c0afd581d4745a9702cbadce9f43d": {
          "model_module": "@jupyter-widgets/base",
          "model_name": "LayoutModel",
          "state": {
            "_view_name": "LayoutView",
            "grid_template_rows": null,
            "right": null,
            "justify_content": null,
            "_view_module": "@jupyter-widgets/base",
            "overflow": null,
            "_model_module_version": "1.2.0",
            "_view_count": null,
            "flex_flow": null,
            "width": null,
            "min_width": null,
            "border": null,
            "align_items": null,
            "bottom": null,
            "_model_module": "@jupyter-widgets/base",
            "top": null,
            "grid_column": null,
            "overflow_y": null,
            "overflow_x": null,
            "grid_auto_flow": null,
            "grid_area": null,
            "grid_template_columns": null,
            "flex": null,
            "_model_name": "LayoutModel",
            "justify_items": null,
            "grid_row": null,
            "max_height": null,
            "align_content": null,
            "visibility": null,
            "align_self": null,
            "height": null,
            "min_height": null,
            "padding": null,
            "grid_auto_rows": null,
            "grid_gap": null,
            "max_width": null,
            "order": null,
            "_view_module_version": "1.2.0",
            "grid_template_areas": null,
            "object_position": null,
            "object_fit": null,
            "grid_auto_columns": null,
            "margin": null,
            "display": null,
            "left": null
          }
        },
        "af84c9a3458d4bc6a03e31b2ff562679": {
          "model_module": "@jupyter-widgets/controls",
          "model_name": "DescriptionStyleModel",
          "state": {
            "_view_name": "StyleView",
            "_model_name": "DescriptionStyleModel",
            "description_width": "",
            "_view_module": "@jupyter-widgets/base",
            "_model_module_version": "1.5.0",
            "_view_count": null,
            "_view_module_version": "1.2.0",
            "_model_module": "@jupyter-widgets/controls"
          }
        },
        "76205374804c4f5ca5965a759a601b7f": {
          "model_module": "@jupyter-widgets/base",
          "model_name": "LayoutModel",
          "state": {
            "_view_name": "LayoutView",
            "grid_template_rows": null,
            "right": null,
            "justify_content": null,
            "_view_module": "@jupyter-widgets/base",
            "overflow": null,
            "_model_module_version": "1.2.0",
            "_view_count": null,
            "flex_flow": null,
            "width": null,
            "min_width": null,
            "border": null,
            "align_items": null,
            "bottom": null,
            "_model_module": "@jupyter-widgets/base",
            "top": null,
            "grid_column": null,
            "overflow_y": null,
            "overflow_x": null,
            "grid_auto_flow": null,
            "grid_area": null,
            "grid_template_columns": null,
            "flex": null,
            "_model_name": "LayoutModel",
            "justify_items": null,
            "grid_row": null,
            "max_height": null,
            "align_content": null,
            "visibility": null,
            "align_self": null,
            "height": null,
            "min_height": null,
            "padding": null,
            "grid_auto_rows": null,
            "grid_gap": null,
            "max_width": null,
            "order": null,
            "_view_module_version": "1.2.0",
            "grid_template_areas": null,
            "object_position": null,
            "object_fit": null,
            "grid_auto_columns": null,
            "margin": null,
            "display": null,
            "left": null
          }
        }
      }
    }
  },
  "cells": [
    {
      "cell_type": "code",
      "metadata": {
        "id": "2FzbW-M-0mnh"
      },
      "source": [
        "from easydict import EasyDict\n",
        "import numpy as np\n",
        "import torch\n",
        "import torch.nn as nn\n",
        "import torch.nn.functional as F\n",
        "import torchvision\n",
        "import matplotlib.pyplot as plt\n",
        "from torchvision.datasets import FashionMNIST"
      ],
      "execution_count": null,
      "outputs": []
    },
    {
      "cell_type": "code",
      "metadata": {
        "id": "FVrBW87UUWo1"
      },
      "source": [
        "def ld_mnist():\n",
        "    \"\"\"Load training and test data.\"\"\"\n",
        "    train_transforms = torchvision.transforms.Compose(\n",
        "        [torchvision.transforms.ToTensor()]\n",
        "    )\n",
        "    test_transforms = torchvision.transforms.Compose(\n",
        "        [torchvision.transforms.ToTensor()]\n",
        "    )\n",
        "\n",
        "    # Load FashionMNIST dataset\n",
        "    train_dataset = FashionMNIST(root=\".\", download = True, transform=train_transforms)\n",
        "    test_dataset = FashionMNIST(\n",
        "        root=\".\", train=False, download = True, transform=test_transforms\n",
        "    )\n",
        "\n",
        "    train_loader = torch.utils.data.DataLoader(\n",
        "        train_dataset, batch_size=128, shuffle=True, num_workers=2\n",
        "    )\n",
        "    test_loader = torch.utils.data.DataLoader(\n",
        "        test_dataset, batch_size=128, shuffle=False, num_workers=2\n",
        "    )\n",
        "    return EasyDict(train=train_loader, test=test_loader)"
      ],
      "execution_count": null,
      "outputs": []
    },
    {
      "cell_type": "code",
      "metadata": {
        "id": "enpNPvkEVry1",
        "colab": {
          "base_uri": "https://localhost:8080/",
          "height": 539,
          "referenced_widgets": [
            "6ec766ca43fb4c5abb8296144f9a2bbf",
            "f8b72a02ca4b465aa0a6df8ec6531680",
            "2553da0524664d21b025fce5bf5424e5",
            "142c48495e5846c9b67645cc22286102",
            "a307d0a1cc464130afa8b2208c2746d4",
            "9599929d7002423a9f72c75b5eab50ce",
            "2a42a8a9ce7a40f3b47d699466820ad7",
            "41178ac19c6748e38de6a1cdf9967ca0",
            "430fc9dcd6d349d896eb778949758da5",
            "388a79da496f4723b5ba04cc7970b215",
            "5808077557794afaa121c668db12e499",
            "93033a5ab99d4a189891cb266f176e5a",
            "cc52069a282045de8a9c34deae1bffb4",
            "bc712d3020974bf4ba5ab1e25039ec15",
            "141226f98a714b8abb1db682e2997d32",
            "1abdf5e9107f4fc68c18764fd3f789bf",
            "1a42f3ab25e54002b350060f1e4a5863",
            "8899fb5366884fe5af62cce1346d4441",
            "b86a7ac0717845c6bfafdeb944823623",
            "46c9329737144e63b4fd2e7e36d69858",
            "a55c06be494e45db80277dc7c45dfeba",
            "52001a22b544406e903c69d39ef752a3",
            "d1e53843e97842e4bb955cd144266680",
            "26b9180e103147d0a191507e28cfae48",
            "966dab103a1540cb8b4826c76ace0699",
            "cc80c7f8a0b44c43a6db3d8ff8f486c7",
            "1d2927f4fe3f42c1aa99e4bb303882fe",
            "64b0d3872dc5465ea23d4f539efdf917",
            "cf0131b1f37f4db38ac6c1150222894d",
            "719c0afd581d4745a9702cbadce9f43d",
            "af84c9a3458d4bc6a03e31b2ff562679",
            "76205374804c4f5ca5965a759a601b7f"
          ]
        },
        "outputId": "a4c97e08-6f7d-4d03-ca7b-ae7451c15a17"
      },
      "source": [
        "#Load data\n",
        "data = ld_mnist()"
      ],
      "execution_count": null,
      "outputs": [
        {
          "output_type": "stream",
          "text": [
            "Downloading http://fashion-mnist.s3-website.eu-central-1.amazonaws.com/train-images-idx3-ubyte.gz\n",
            "Downloading http://fashion-mnist.s3-website.eu-central-1.amazonaws.com/train-images-idx3-ubyte.gz to ./FashionMNIST/raw/train-images-idx3-ubyte.gz\n"
          ],
          "name": "stdout"
        },
        {
          "output_type": "display_data",
          "data": {
            "application/vnd.jupyter.widget-view+json": {
              "model_id": "6ec766ca43fb4c5abb8296144f9a2bbf",
              "version_minor": 0,
              "version_major": 2
            },
            "text/plain": [
              "HBox(children=(FloatProgress(value=0.0, max=26421880.0), HTML(value='')))"
            ]
          },
          "metadata": {
            "tags": []
          }
        },
        {
          "output_type": "stream",
          "text": [
            "\n",
            "Extracting ./FashionMNIST/raw/train-images-idx3-ubyte.gz to ./FashionMNIST/raw\n",
            "\n",
            "Downloading http://fashion-mnist.s3-website.eu-central-1.amazonaws.com/train-labels-idx1-ubyte.gz\n",
            "Downloading http://fashion-mnist.s3-website.eu-central-1.amazonaws.com/train-labels-idx1-ubyte.gz to ./FashionMNIST/raw/train-labels-idx1-ubyte.gz\n"
          ],
          "name": "stdout"
        },
        {
          "output_type": "display_data",
          "data": {
            "application/vnd.jupyter.widget-view+json": {
              "model_id": "430fc9dcd6d349d896eb778949758da5",
              "version_minor": 0,
              "version_major": 2
            },
            "text/plain": [
              "HBox(children=(FloatProgress(value=0.0, max=29515.0), HTML(value='')))"
            ]
          },
          "metadata": {
            "tags": []
          }
        },
        {
          "output_type": "stream",
          "text": [
            "\n",
            "Extracting ./FashionMNIST/raw/train-labels-idx1-ubyte.gz to ./FashionMNIST/raw\n",
            "\n",
            "Downloading http://fashion-mnist.s3-website.eu-central-1.amazonaws.com/t10k-images-idx3-ubyte.gz\n",
            "Downloading http://fashion-mnist.s3-website.eu-central-1.amazonaws.com/t10k-images-idx3-ubyte.gz to ./FashionMNIST/raw/t10k-images-idx3-ubyte.gz\n"
          ],
          "name": "stdout"
        },
        {
          "output_type": "display_data",
          "data": {
            "application/vnd.jupyter.widget-view+json": {
              "model_id": "1a42f3ab25e54002b350060f1e4a5863",
              "version_minor": 0,
              "version_major": 2
            },
            "text/plain": [
              "HBox(children=(FloatProgress(value=0.0, max=4422102.0), HTML(value='')))"
            ]
          },
          "metadata": {
            "tags": []
          }
        },
        {
          "output_type": "stream",
          "text": [
            "\n",
            "Extracting ./FashionMNIST/raw/t10k-images-idx3-ubyte.gz to ./FashionMNIST/raw\n",
            "\n",
            "Downloading http://fashion-mnist.s3-website.eu-central-1.amazonaws.com/t10k-labels-idx1-ubyte.gz\n",
            "Downloading http://fashion-mnist.s3-website.eu-central-1.amazonaws.com/t10k-labels-idx1-ubyte.gz to ./FashionMNIST/raw/t10k-labels-idx1-ubyte.gz\n"
          ],
          "name": "stdout"
        },
        {
          "output_type": "display_data",
          "data": {
            "application/vnd.jupyter.widget-view+json": {
              "model_id": "966dab103a1540cb8b4826c76ace0699",
              "version_minor": 0,
              "version_major": 2
            },
            "text/plain": [
              "HBox(children=(FloatProgress(value=0.0, max=5148.0), HTML(value='')))"
            ]
          },
          "metadata": {
            "tags": []
          }
        },
        {
          "output_type": "stream",
          "text": [
            "\n",
            "Extracting ./FashionMNIST/raw/t10k-labels-idx1-ubyte.gz to ./FashionMNIST/raw\n",
            "\n"
          ],
          "name": "stdout"
        },
        {
          "output_type": "stream",
          "text": [
            "/usr/local/lib/python3.7/dist-packages/torchvision/datasets/mnist.py:498: UserWarning: The given NumPy array is not writeable, and PyTorch does not support non-writeable tensors. This means you can write to the underlying (supposedly non-writeable) NumPy array using the tensor. You may want to copy the array to protect its data or make it writeable before converting it to a tensor. This type of warning will be suppressed for the rest of this program. (Triggered internally at  /pytorch/torch/csrc/utils/tensor_numpy.cpp:180.)\n",
            "  return torch.from_numpy(parsed.astype(m[2], copy=False)).view(*s)\n"
          ],
          "name": "stderr"
        }
      ]
    },
    {
      "cell_type": "code",
      "metadata": {
        "colab": {
          "base_uri": "https://localhost:8080/",
          "height": 265
        },
        "id": "qwqj_u3WskkT",
        "outputId": "8af8cb6e-cc51-49eb-acb6-edde807a5406"
      },
      "source": [
        "#Print some example\n",
        "labels_meaning = {\n",
        "  \"0\":\t\"T-shirt/top\",\n",
        "  \"1\":\t\"Trouser\",\n",
        "  \"2\":\t\"Pullover\",\n",
        "  \"3\":\t\"Dress\",\n",
        "  \"4\":\t\"Coat\",\n",
        "  \"5\":\t\"Sandal\",\n",
        "  \"6\":\t\"Shirt\",\n",
        "  \"7\":\t\"Sneaker\",\n",
        "  \"8\":\t\"Bag\",\n",
        "  \"9\":\t\"Ankle boot\"\n",
        "}\n",
        "\n",
        "image_batch, label_batch = next(iter(data.train))\n",
        "plt.axis('off')\n",
        "_ = plt.imshow(image_batch[0].view(28, 28), cmap=\"gray\")\n",
        "print(labels_meaning[str(label_batch[0].item())])"
      ],
      "execution_count": null,
      "outputs": [
        {
          "output_type": "stream",
          "text": [
            "Sandal\n"
          ],
          "name": "stdout"
        },
        {
          "output_type": "display_data",
          "data": {
            "image/png": "[encoded data removed]",
            "text/plain": [
              "<Figure size 432x288 with 1 Axes>"
            ]
          },
          "metadata": {
            "tags": [],
            "needs_background": "light"
          }
        }
      ]
    },
    {
      "cell_type": "code",
      "metadata": {
        "id": "4FAMGL16WQjk"
      },
      "source": [
        "class CNN(torch.nn.Module):\n",
        "    \"\"\"Basic CNN architecture.\"\"\"\n",
        "\n",
        "    def __init__(self, in_channels=1):\n",
        "        super(CNN, self).__init__()\n",
        "        self.conv1 = nn.Conv2d(\n",
        "            in_channels, 64, 8, 1\n",
        "        )  # (batch_size, 3, 28, 28) --> (batch_size, 64, 21, 21)\n",
        "        self.conv2 = nn.Conv2d(\n",
        "            64, 128, 6, 2\n",
        "        )  # (batch_size, 64, 21, 21) --> (batch_size, 128, 8, 8)\n",
        "        self.conv3 = nn.Conv2d(\n",
        "            128, 128, 5, 1\n",
        "        )  # (batch_size, 128, 8, 8) --> (batch_size, 128, 4, 4)\n",
        "        self.fc1 = nn.Linear(\n",
        "            128 * 4 * 4, 128\n",
        "        )  # (batch_size, 128, 4, 4) --> (batch_size, 2048)\n",
        "        self.fc2 = nn.Linear(128, 10)  # (batch_size, 128) --> (batch_size, 10)\n",
        "\n",
        "    def forward(self, x):\n",
        "        x = F.relu(self.conv1(x))\n",
        "        x = F.relu(self.conv2(x))\n",
        "        x = F.relu(self.conv3(x))\n",
        "        x = x.view(-1, 128 * 4 * 4)\n",
        "        x = self.fc1(x)\n",
        "        x = self.fc2(x)\n",
        "        return x"
      ],
      "execution_count": null,
      "outputs": []
    },
    {
      "cell_type": "code",
      "metadata": {
        "id": "QES14u3FtrQa"
      },
      "source": [
        "def projected_gradient_descent(model, x, y, loss_fn, num_steps, step_size, eps, y_target=None):\n",
        "    \"\"\"Performs PGD on batch of images\"\"\"\n",
        "\n",
        "    x_adv = x.clone().detach().requires_grad_(True).to(x.device)\n",
        "    targeted = y_target is not None\n",
        "    num_channels = x.shape[1]\n",
        "\n",
        "    if targeted:\n",
        "      #Create tensor filled only with targeted labels\n",
        "      target_tensor = y\n",
        "      target_tensor[:] = y_target\n",
        "\n",
        "    for i in range(num_steps):\n",
        "        _x_adv = x_adv.clone().detach().requires_grad_(True)\n",
        "\n",
        "        prediction = model(_x_adv)\n",
        "        loss = loss_fn(prediction, target_tensor if targeted else y)\n",
        "        loss.backward()\n",
        "\n",
        "        with torch.no_grad():\n",
        "            gradients = _x_adv.grad * step_size / _x_adv.grad.view(_x_adv.shape[0], -1)\\\n",
        "                .norm(dim=-1)\\\n",
        "                .view(-1, num_channels, 1, 1)\n",
        "\n",
        "            if targeted:\n",
        "                x_adv -= gradients\n",
        "            else:\n",
        "                x_adv += gradients\n",
        "        \n",
        "        # Project back into l2 eps ball\n",
        "        delta = x_adv - x\n",
        "        delta = delta.renorm(p=2, dim=0, maxnorm=eps)\n",
        "        x_adv = x + delta\n",
        "        x_adv = x_adv.clamp(0,1)\n",
        "\n",
        "    return x_adv.detach()"
      ],
      "execution_count": null,
      "outputs": []
    },
    {
      "cell_type": "code",
      "metadata": {
        "id": "q7Rcr3p9rijT"
      },
      "source": [
        "def train(epochs, adv_train, net, eps, num_steps, step_size, y_target = None):\n",
        "\n",
        "  device = \"cuda\" if torch.cuda.is_available() else \"cpu\"\n",
        "  if device == \"cuda\":\n",
        "      net = net.cuda()\n",
        "  loss_fn = torch.nn.CrossEntropyLoss(reduction=\"mean\")\n",
        "  optimizer = torch.optim.Adam(net.parameters(), lr=1e-3)\n",
        "\n",
        "  # Train vanilla model\n",
        "  net.train()\n",
        "  for epoch in range(1, epochs + 1):\n",
        "      train_loss = 0.0\n",
        "      for x, y in data.train:\n",
        "          x, y = x.to(device), y.to(device)\n",
        "          if adv_train:\n",
        "              # Replace clean example with adversarial example for adversarial training\n",
        "              x = projected_gradient_descent(net, x, y, loss_fn, num_steps, step_size, eps, y_target=y_target)\n",
        "          optimizer.zero_grad()\n",
        "          loss = loss_fn(net(x), y)\n",
        "          loss.backward()\n",
        "          optimizer.step()\n",
        "          train_loss += loss.item()\n",
        "      print(\n",
        "          \"epoch: {}/{}, train loss: {:.3f}\".format(\n",
        "              epoch, epochs, train_loss\n",
        "          )\n",
        "      )\n",
        "\n",
        "  # Evaluate on clean and adversarial data\n",
        "  net.eval()\n",
        "  report = EasyDict(all=0, correct=0, correct_pgd=0)\n",
        "  for x, y in data.test:\n",
        "      x, y = x.to(device), y.to(device)\n",
        "      x_pgd = projected_gradient_descent(net, x, y, loss_fn, num_steps, step_size, eps, y_target=y_target)\n",
        "      _, y_pred = net(x).max(1)  # model prediction on clean examples\n",
        "      _, y_pred_pgd = net(x_pgd).max(1)  # model prediction on PGD adversarial examples\n",
        "      report.all += y.size(0)\n",
        "      report.correct += y_pred.eq(y).sum().item()\n",
        "      report.correct_pgd += y_pred_pgd.eq(y).sum().item()\n",
        "\n",
        "  acc_clean = report.correct / report.all * 100.0\n",
        "  acc_pgd = report.correct_pgd / report.all * 100.0\n",
        "  print(\"test acc on clean examples (%): {:.3f}\".format(acc_clean))\n",
        "  print(\"test acc on PGD adversarial examples (%): {:.3f}\".format(acc_pgd)\n",
        "  )\n",
        "\n",
        "  return acc_clean, acc_pgd"
      ],
      "execution_count": null,
      "outputs": []
    },
    {
      "cell_type": "markdown",
      "metadata": {
        "id": "Q_BHtCxqox-a"
      },
      "source": [
        "Let's train model with some exemplary parameters:"
      ]
    },
    {
      "cell_type": "code",
      "metadata": {
        "colab": {
          "base_uri": "https://localhost:8080/"
        },
        "id": "uyaclFGfaTY4",
        "outputId": "7ee4cdcb-a2c4-4bba-eb47-767556a37fda"
      },
      "source": [
        "net = CNN()\n",
        "_, _ = train(epochs = 8, adv_train = False, net = net, eps = 2, num_steps = 20, step_size = 0.5)"
      ],
      "execution_count": null,
      "outputs": [
        {
          "output_type": "stream",
          "text": [
            "epoch: 1/8, train loss: 258.564\n",
            "epoch: 2/8, train loss: 161.630\n",
            "epoch: 3/8, train loss: 137.671\n",
            "epoch: 4/8, train loss: 123.919\n",
            "epoch: 5/8, train loss: 109.052\n",
            "epoch: 6/8, train loss: 96.908\n",
            "epoch: 7/8, train loss: 87.487\n",
            "epoch: 8/8, train loss: 77.839\n",
            "test acc on clean examples (%): 90.040\n",
            "test acc on PGD adversarial examples (%): 1.280\n"
          ],
          "name": "stdout"
        }
      ]
    },
    {
      "cell_type": "markdown",
      "metadata": {
        "id": "KXtPstCRlpKz"
      },
      "source": [
        "So clearly PGD attack works.\n",
        "Let's check how big perturbations must be ($\\epsilon$ value - size of L2 ball) to affect my model:"
      ]
    },
    {
      "cell_type": "code",
      "metadata": {
        "colab": {
          "base_uri": "https://localhost:8080/"
        },
        "id": "5RA3XB1Tzx6W",
        "outputId": "2391b64c-7a1b-4804-e3f3-de71d4e0d54c"
      },
      "source": [
        "pgd_accs = []\n",
        "epsilons = []\n",
        "\n",
        "for eps in np.linspace(0, 3, num = 10):\n",
        "  print(\"Epsilon: \", eps)\n",
        "  _, acc_pgd = train(epochs = 8, adv_train = False, net = CNN(), eps = eps, num_steps = 20, step_size = 0.5)\n",
        "  pgd_accs.append(acc_pgd)\n",
        "  epsilons.append(eps)"
      ],
      "execution_count": null,
      "outputs": [
        {
          "output_type": "stream",
          "text": [
            "Epsilon:  0.0\n",
            "epoch: 1/8, train loss: 250.941\n",
            "epoch: 2/8, train loss: 159.916\n",
            "epoch: 3/8, train loss: 137.833\n",
            "epoch: 4/8, train loss: 120.951\n",
            "epoch: 5/8, train loss: 110.862\n",
            "epoch: 6/8, train loss: 96.961\n",
            "epoch: 7/8, train loss: 88.491\n",
            "epoch: 8/8, train loss: 79.038\n",
            "test acc on clean examples (%): 89.990\n",
            "test acc on PGD adversarial examples (%): 89.910\n",
            "Epsilon:  0.3333333333333333\n",
            "epoch: 1/8, train loss: 266.488\n",
            "epoch: 2/8, train loss: 163.568\n",
            "epoch: 3/8, train loss: 138.548\n",
            "epoch: 4/8, train loss: 124.202\n",
            "epoch: 5/8, train loss: 111.549\n",
            "epoch: 6/8, train loss: 101.438\n",
            "epoch: 7/8, train loss: 91.648\n",
            "epoch: 8/8, train loss: 81.177\n",
            "test acc on clean examples (%): 89.210\n",
            "test acc on PGD adversarial examples (%): 59.780\n",
            "Epsilon:  0.6666666666666666\n",
            "epoch: 1/8, train loss: 261.113\n",
            "epoch: 2/8, train loss: 164.963\n",
            "epoch: 3/8, train loss: 140.172\n",
            "epoch: 4/8, train loss: 125.754\n",
            "epoch: 5/8, train loss: 112.300\n",
            "epoch: 6/8, train loss: 101.872\n",
            "epoch: 7/8, train loss: 89.737\n",
            "epoch: 8/8, train loss: 80.252\n",
            "test acc on clean examples (%): 90.320\n",
            "test acc on PGD adversarial examples (%): 30.430\n",
            "Epsilon:  1.0\n",
            "epoch: 1/8, train loss: 261.879\n",
            "epoch: 2/8, train loss: 164.645\n",
            "epoch: 3/8, train loss: 141.818\n",
            "epoch: 4/8, train loss: 126.786\n",
            "epoch: 5/8, train loss: 116.304\n",
            "epoch: 6/8, train loss: 106.045\n",
            "epoch: 7/8, train loss: 94.285\n",
            "epoch: 8/8, train loss: 85.051\n",
            "test acc on clean examples (%): 90.110\n",
            "test acc on PGD adversarial examples (%): 12.530\n",
            "Epsilon:  1.3333333333333333\n",
            "epoch: 1/8, train loss: 254.999\n",
            "epoch: 2/8, train loss: 162.115\n",
            "epoch: 3/8, train loss: 138.654\n",
            "epoch: 4/8, train loss: 122.921\n",
            "epoch: 5/8, train loss: 109.721\n",
            "epoch: 6/8, train loss: 99.131\n",
            "epoch: 7/8, train loss: 89.338\n",
            "epoch: 8/8, train loss: 79.657\n",
            "test acc on clean examples (%): 90.110\n",
            "test acc on PGD adversarial examples (%): 2.340\n",
            "Epsilon:  1.6666666666666665\n",
            "epoch: 1/8, train loss: 255.135\n",
            "epoch: 2/8, train loss: 161.046\n",
            "epoch: 3/8, train loss: 136.986\n",
            "epoch: 4/8, train loss: 120.696\n",
            "epoch: 5/8, train loss: 110.521\n",
            "epoch: 6/8, train loss: 97.040\n",
            "epoch: 7/8, train loss: 88.343\n",
            "epoch: 8/8, train loss: 78.303\n",
            "test acc on clean examples (%): 90.280\n",
            "test acc on PGD adversarial examples (%): 6.280\n",
            "Epsilon:  2.0\n",
            "epoch: 1/8, train loss: 250.309\n",
            "epoch: 2/8, train loss: 161.258\n",
            "epoch: 3/8, train loss: 136.336\n",
            "epoch: 4/8, train loss: 121.176\n",
            "epoch: 5/8, train loss: 108.047\n",
            "epoch: 6/8, train loss: 95.889\n",
            "epoch: 7/8, train loss: 85.224\n",
            "epoch: 8/8, train loss: 76.226\n",
            "test acc on clean examples (%): 89.650\n",
            "test acc on PGD adversarial examples (%): 1.450\n",
            "Epsilon:  2.333333333333333\n",
            "epoch: 1/8, train loss: 261.953\n",
            "epoch: 2/8, train loss: 163.657\n",
            "epoch: 3/8, train loss: 139.307\n",
            "epoch: 4/8, train loss: 125.116\n",
            "epoch: 5/8, train loss: 111.976\n",
            "epoch: 6/8, train loss: 101.630\n",
            "epoch: 7/8, train loss: 90.108\n",
            "epoch: 8/8, train loss: 82.394\n",
            "test acc on clean examples (%): 90.860\n",
            "test acc on PGD adversarial examples (%): 0.520\n",
            "Epsilon:  2.6666666666666665\n",
            "epoch: 1/8, train loss: 258.650\n",
            "epoch: 2/8, train loss: 165.764\n",
            "epoch: 3/8, train loss: 141.365\n",
            "epoch: 4/8, train loss: 127.127\n",
            "epoch: 5/8, train loss: 114.116\n",
            "epoch: 6/8, train loss: 103.519\n",
            "epoch: 7/8, train loss: 93.859\n",
            "epoch: 8/8, train loss: 85.009\n",
            "test acc on clean examples (%): 90.060\n",
            "test acc on PGD adversarial examples (%): 1.020\n",
            "Epsilon:  3.0\n",
            "epoch: 1/8, train loss: 259.840\n",
            "epoch: 2/8, train loss: 161.755\n",
            "epoch: 3/8, train loss: 140.225\n",
            "epoch: 4/8, train loss: 124.029\n",
            "epoch: 5/8, train loss: 111.462\n",
            "epoch: 6/8, train loss: 100.610\n",
            "epoch: 7/8, train loss: 89.347\n",
            "epoch: 8/8, train loss: 80.189\n",
            "test acc on clean examples (%): 90.090\n",
            "test acc on PGD adversarial examples (%): 0.870\n"
          ],
          "name": "stdout"
        }
      ]
    },
    {
      "cell_type": "code",
      "metadata": {
        "colab": {
          "base_uri": "https://localhost:8080/",
          "height": 279
        },
        "id": "OHeZleaJz2et",
        "outputId": "141a8273-6dad-4968-828c-d8810c7d4b1e"
      },
      "source": [
        "plt.plot(epsilons, pgd_accs)\n",
        "plt.xlabel('Epsilon')\n",
        "plt.ylabel('Accuracy (%)')\n",
        "plt.grid()"
      ],
      "execution_count": null,
      "outputs": [
        {
          "output_type": "display_data",
          "data": {
            "image/png": "[encoded data removed]",
            "text/plain": [
              "<Figure size 432x288 with 1 Axes>"
            ]
          },
          "metadata": {
            "tags": [],
            "needs_background": "light"
          }
        }
      ]
    },
    {
      "cell_type": "markdown",
      "metadata": {
        "id": "fmKRMppPyUK5"
      },
      "source": [
        "So for $\\epsilon$ ~= 1.5 accuracy is drastically decreased. Let's visualize some adversarial examples for this $\\epsilon$ value:"
      ]
    },
    {
      "cell_type": "code",
      "metadata": {
        "id": "rrEdpU0cxrJv"
      },
      "source": [
        "def visualize_adversarial(x, x_adv, i, net):\n",
        "\n",
        "  fig, axes = plt.subplots(1, 2, figsize=(10,5))\n",
        "\n",
        "  axes[0].imshow(x[i].cpu().view(28, 28), cmap='gray')\n",
        "  axes[0].set_title(\n",
        "      f'Original image - '\n",
        "      f'P({labels_meaning[str(net(x)[i].argmax().item())]}) = '\n",
        "      f'{np.round(net(x)[i].softmax(dim=0)[net(x)[i].argmax().item()].item(), 5)}')\n",
        "  axes[0].set_xticks([])\n",
        "  axes[0].set_yticks([])\n",
        "\n",
        "  axes[1].imshow(x_adv[i].cpu().view(28, 28), cmap='gray')\n",
        "  axes[1].set_title(\n",
        "      f'Adversary image - '\n",
        "      f'P({labels_meaning[str(net(x_adv)[i].argmax().item())]}) = '\n",
        "      f'{np.round(net(x_adv)[i].softmax(dim=0)[net(x_adv)[i].argmax().item()].item(), 5)}')\n",
        "  axes[1].set_xticks([])\n",
        "  axes[1].set_yticks([])"
      ],
      "execution_count": null,
      "outputs": []
    },
    {
      "cell_type": "code",
      "metadata": {
        "colab": {
          "base_uri": "https://localhost:8080/"
        },
        "id": "YXa9ZCKr2fXt",
        "outputId": "db95f104-5178-448c-c20a-07a4c4888997"
      },
      "source": [
        "#Train model\n",
        "net = CNN()\n",
        "_, _ = train(epochs = 8, adv_train = False, net = net, eps = 1.5, num_steps = 20, step_size = 0.5)"
      ],
      "execution_count": null,
      "outputs": [
        {
          "output_type": "stream",
          "text": [
            "epoch: 1/8, train loss: 257.111\n",
            "epoch: 2/8, train loss: 163.461\n",
            "epoch: 3/8, train loss: 139.142\n",
            "epoch: 4/8, train loss: 122.421\n",
            "epoch: 5/8, train loss: 110.498\n",
            "epoch: 6/8, train loss: 99.226\n",
            "epoch: 7/8, train loss: 88.454\n",
            "epoch: 8/8, train loss: 78.739\n",
            "test acc on clean examples (%): 89.920\n",
            "test acc on PGD adversarial examples (%): 1.370\n"
          ],
          "name": "stdout"
        }
      ]
    },
    {
      "cell_type": "code",
      "metadata": {
        "colab": {
          "base_uri": "https://localhost:8080/",
          "height": 1000
        },
        "id": "B6Mj3tMjZ0Gn",
        "outputId": "28a0592a-9bc1-4927-bfa0-a8f21ccc13bc"
      },
      "source": [
        "#Visualize some adversarial examples\n",
        "num_steps = 20\n",
        "step_size = 0.5\n",
        "eps = 1.5\n",
        "device = \"cuda\" if torch.cuda.is_available() else \"cpu\"\n",
        "\n",
        "x, y = next(iter(data.train))\n",
        "x, y = x.to(device), y.to(device)\n",
        "\n",
        "x_adv = projected_gradient_descent(net, x, y, torch.nn.CrossEntropyLoss(), num_steps, step_size, eps)\n",
        "\n",
        "for i in range(5):\n",
        "  visualize_adversarial(x, x_adv, i, net)"
      ],
      "execution_count": null,
      "outputs": [
        {
          "output_type": "display_data",
          "data": {
            "image/png": "[encoded data removed]",
            "text/plain": [
              "<Figure size 720x360 with 2 Axes>"
            ]
          },
          "metadata": {
            "tags": []
          }
        },
        {
          "output_type": "display_data",
          "data": {
            "image/png": "[encoded data removed]",
            "text/plain": [
              "<Figure size 720x360 with 2 Axes>"
            ]
          },
          "metadata": {
            "tags": []
          }
        },
        {
          "output_type": "display_data",
          "data": {
            "image/png": "[encoded data removed]",
            "text/plain": [
              "<Figure size 720x360 with 2 Axes>"
            ]
          },
          "metadata": {
            "tags": []
          }
        },
        {
          "output_type": "display_data",
          "data": {
            "image/png": "[encoded data removed]",
            "text/plain": [
              "<Figure size 720x360 with 2 Axes>"
            ]
          },
          "metadata": {
            "tags": []
          }
        },
        {
          "output_type": "display_data",
          "data": {
            "image/png": "[encoded data removed]",
            "text/plain": [
              "<Figure size 720x360 with 2 Axes>"
            ]
          },
          "metadata": {
            "tags": []
          }
        }
      ]
    },
    {
      "cell_type": "markdown",
      "metadata": {
        "id": "Oc0DZyEazelH"
      },
      "source": [
        "Let's try to make sandals (label - 5) out of all images "
      ]
    },
    {
      "cell_type": "code",
      "metadata": {
        "colab": {
          "base_uri": "https://localhost:8080/",
          "height": 1000
        },
        "id": "CWc6ITyv0klv",
        "outputId": "3ca7d44b-df4e-4f27-c411-3b1831f46104"
      },
      "source": [
        "num_steps = 20\n",
        "step_size = 0.5\n",
        "eps = 1.5\n",
        "device = \"cuda\" if torch.cuda.is_available() else \"cpu\"\n",
        "\n",
        "x, y = next(iter(data.train))\n",
        "x, y = x.to(device), y.to(device)\n",
        "\n",
        "x_adv = projected_gradient_descent(net, x, y, torch.nn.CrossEntropyLoss(), num_steps, step_size, eps, y_target = 5)\n",
        "\n",
        "for i in range(5):\n",
        "  visualize_adversarial(x, x_adv, i, net)"
      ],
      "execution_count": null,
      "outputs": [
        {
          "output_type": "display_data",
          "data": {
            "image/png": "[encoded data removed]",
            "text/plain": [
              "<Figure size 720x360 with 2 Axes>"
            ]
          },
          "metadata": {
            "tags": []
          }
        },
        {
          "output_type": "display_data",
          "data": {
            "image/png": "[encoded data removed]",
            "text/plain": [
              "<Figure size 720x360 with 2 Axes>"
            ]
          },
          "metadata": {
            "tags": []
          }
        },
        {
          "output_type": "display_data",
          "data": {
            "image/png": "[encoded data removed]",
            "text/plain": [
              "<Figure size 720x360 with 2 Axes>"
            ]
          },
          "metadata": {
            "tags": []
          }
        },
        {
          "output_type": "display_data",
          "data": {
            "image/png": "[encoded data removed]",
            "text/plain": [
              "<Figure size 720x360 with 2 Axes>"
            ]
          },
          "metadata": {
            "tags": []
          }
        },
        {
          "output_type": "display_data",
          "data": {
            "image/png": "[encoded data removed]",
            "text/plain": [
              "<Figure size 720x360 with 2 Axes>"
            ]
          },
          "metadata": {
            "tags": []
          }
        }
      ]
    },
    {
      "cell_type": "markdown",
      "metadata": {
        "id": "lZTaSTUY1wBY"
      },
      "source": [
        "Now, I will create robust model (trained for adversary inputs) and compare its performance to normal model:"
      ]
    },
    {
      "cell_type": "code",
      "metadata": {
        "colab": {
          "base_uri": "https://localhost:8080/"
        },
        "id": "hzoe93wv2Ly-",
        "outputId": "3fc46ae5-2cfb-494d-8b10-c3dd33105a08"
      },
      "source": [
        "#Train robust model\n",
        "net_r = CNN()\n",
        "_, _ = train(epochs = 8, adv_train = True, net = net_r, eps = 2, num_steps = 20, step_size = 0.5)"
      ],
      "execution_count": null,
      "outputs": [
        {
          "output_type": "stream",
          "text": [
            "epoch: 1/8, train loss: 613.680\n",
            "epoch: 2/8, train loss: 536.019\n",
            "epoch: 3/8, train loss: 517.618\n",
            "epoch: 4/8, train loss: 508.894\n",
            "epoch: 5/8, train loss: 502.158\n",
            "epoch: 6/8, train loss: 495.545\n",
            "epoch: 7/8, train loss: 492.184\n",
            "epoch: 8/8, train loss: 490.274\n",
            "test acc on clean examples (%): 77.190\n",
            "test acc on PGD adversarial examples (%): 54.350\n"
          ],
          "name": "stdout"
        }
      ]
    },
    {
      "cell_type": "markdown",
      "metadata": {
        "id": "CRMpUd5J5ikI"
      },
      "source": [
        "So it's possible to get better accuracy on PGD images, but it's connected with some costs of the accuracy on clean images"
      ]
    },
    {
      "cell_type": "markdown",
      "metadata": {
        "id": "vooSecoRqbdL"
      },
      "source": [
        "Let's check if it would be possible now to create some sandals now:"
      ]
    },
    {
      "cell_type": "code",
      "metadata": {
        "colab": {
          "base_uri": "https://localhost:8080/",
          "height": 1000
        },
        "id": "9aZupqyEaAzA",
        "outputId": "63c245d8-2e9e-4036-e71c-cf5246392bd9"
      },
      "source": [
        "#Visualize sandals\n",
        "num_steps = 20\n",
        "step_size = 0.5\n",
        "eps = 2\n",
        "device = \"cuda\" if torch.cuda.is_available() else \"cpu\"\n",
        "\n",
        "x, y = next(iter(data.train))\n",
        "x, y = x.to(device), y.to(device)\n",
        "\n",
        "x_adv = projected_gradient_descent(net_r, x, y, torch.nn.CrossEntropyLoss(), num_steps, step_size, eps, y_target = 5)\n",
        "\n",
        "for i in range(10):\n",
        "  visualize_adversarial(x, x_adv, i, net_r)"
      ],
      "execution_count": null,
      "outputs": [
        {
          "output_type": "display_data",
          "data": {
            "image/png": "[encoded data removed]",
            "text/plain": [
              "<Figure size 720x360 with 2 Axes>"
            ]
          },
          "metadata": {
            "tags": []
          }
        },
        {
          "output_type": "display_data",
          "data": {
            "image/png": "[encoded data removed]",
            "text/plain": [
              "<Figure size 720x360 with 2 Axes>"
            ]
          },
          "metadata": {
            "tags": []
          }
        },
        {
          "output_type": "display_data",
          "data": {
            "image/png": "[encoded data removed]",
            "text/plain": [
              "<Figure size 720x360 with 2 Axes>"
            ]
          },
          "metadata": {
            "tags": []
          }
        },
        {
          "output_type": "display_data",
          "data": {
            "image/png": "[encoded data removed]",
            "text/plain": [
              "<Figure size 720x360 with 2 Axes>"
            ]
          },
          "metadata": {
            "tags": []
          }
        },
        {
          "output_type": "display_data",
          "data": {
            "image/png": "[encoded data removed]",
            "text/plain": [
              "<Figure size 720x360 with 2 Axes>"
            ]
          },
          "metadata": {
            "tags": []
          }
        },
        {
          "output_type": "display_data",
          "data": {
            "image/png": "[encoded data removed]",
            "text/plain": [
              "<Figure size 720x360 with 2 Axes>"
            ]
          },
          "metadata": {
            "tags": []
          }
        },
        {
          "output_type": "display_data",
          "data": {
            "image/png": "[encoded data removed]",
            "text/plain": [
              "<Figure size 720x360 with 2 Axes>"
            ]
          },
          "metadata": {
            "tags": []
          }
        },
        {
          "output_type": "display_data",
          "data": {
            "image/png": "[encoded data removed]",
            "text/plain": [
              "<Figure size 720x360 with 2 Axes>"
            ]
          },
          "metadata": {
            "tags": []
          }
        },
        {
          "output_type": "display_data",
          "data": {
            "image/png": "[encoded data removed]",
            "text/plain": [
              "<Figure size 720x360 with 2 Axes>"
            ]
          },
          "metadata": {
            "tags": []
          }
        },
        {
          "output_type": "display_data",
          "data": {
            "image/png": "[encoded data removed]",
            "text/plain": [
              "<Figure size 720x360 with 2 Axes>"
            ]
          },
          "metadata": {
            "tags": []
          }
        }
      ]
    },
    {
      "cell_type": "markdown",
      "metadata": {
        "id": "rWimtaMHiXqd"
      },
      "source": [
        "So on adversary trained network it's hard to create sandals out of other clothes."
      ]
    }
  ]
}